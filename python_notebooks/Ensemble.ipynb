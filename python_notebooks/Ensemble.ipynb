{
 "cells": [
  {
   "cell_type": "code",
   "execution_count": 2,
   "metadata": {},
   "outputs": [],
   "source": [
    "import pandas as pd\n",
    "from sklearn import model_selection\n",
    "from sklearn.tree import DecisionTreeClassifier\n",
    "from sklearn.svm import SVC\n",
    "from sklearn.ensemble import VotingClassifier, RandomForestClassifier\n",
    "from sklearn.neighbors import KNeighborsClassifier"
   ]
  },
  {
   "cell_type": "code",
   "execution_count": 6,
   "metadata": {},
   "outputs": [],
   "source": [
    "df = pd.read_csv('CropDataset.csv')"
   ]
  },
  {
   "cell_type": "code",
   "execution_count": 7,
   "metadata": {},
   "outputs": [
    {
     "data": {
      "text/plain": [
       "Index(['N', 'P', 'K', 'temperature', 'humidity', 'ph', 'rainfall', 'label'], dtype='object')"
      ]
     },
     "execution_count": 7,
     "metadata": {},
     "output_type": "execute_result"
    }
   ],
   "source": [
    "df.columns"
   ]
  },
  {
   "cell_type": "code",
   "execution_count": 8,
   "metadata": {},
   "outputs": [
    {
     "output_type": "error",
     "ename": "NameError",
     "evalue": "name 'df' is not defined",
     "traceback": [
      "\u001b[1;31m---------------------------------------------------------------------------\u001b[0m",
      "\u001b[1;31mNameError\u001b[0m                                 Traceback (most recent call last)",
      "\u001b[1;32m<ipython-input-8-a049d3f24eb7>\u001b[0m in \u001b[0;36m<module>\u001b[1;34m\u001b[0m\n\u001b[0;32m      1\u001b[0m \u001b[1;31m# Feature selection\u001b[0m\u001b[1;33m\u001b[0m\u001b[1;33m\u001b[0m\u001b[0m\n\u001b[1;32m----> 2\u001b[1;33m \u001b[0mX\u001b[0m \u001b[1;33m=\u001b[0m \u001b[0mdf\u001b[0m\u001b[1;33m.\u001b[0m\u001b[0miloc\u001b[0m\u001b[1;33m[\u001b[0m\u001b[1;33m:\u001b[0m\u001b[1;33m,\u001b[0m \u001b[1;36m3\u001b[0m\u001b[1;33m:\u001b[0m\u001b[1;36m7\u001b[0m\u001b[1;33m]\u001b[0m\u001b[1;33m\u001b[0m\u001b[0m\n\u001b[0m\u001b[0;32m      3\u001b[0m \u001b[0mY\u001b[0m \u001b[1;33m=\u001b[0m \u001b[0mdf\u001b[0m\u001b[1;33m.\u001b[0m\u001b[0miloc\u001b[0m\u001b[1;33m[\u001b[0m\u001b[1;33m:\u001b[0m\u001b[1;33m,\u001b[0m\u001b[1;36m7\u001b[0m\u001b[1;33m]\u001b[0m\u001b[1;33m\u001b[0m\u001b[0m\n",
      "\u001b[1;31mNameError\u001b[0m: name 'df' is not defined"
     ]
    }
   ],
   "source": [
    "# Feature selection\n",
    "X = df.iloc[:, 3:7]\n",
    "Y = df.iloc[:,7]"
   ]
  },
  {
   "cell_type": "markdown",
   "metadata": {},
   "source": [
    "## Decision Tree"
   ]
  },
  {
   "cell_type": "code",
   "execution_count": 3,
   "metadata": {},
   "outputs": [
    {
     "output_type": "error",
     "ename": "NameError",
     "evalue": "name 'DecisionTreeClassifier' is not defined",
     "traceback": [
      "\u001b[1;31m---------------------------------------------------------------------------\u001b[0m",
      "\u001b[1;31mNameError\u001b[0m                                 Traceback (most recent call last)",
      "\u001b[1;32m<ipython-input-3-e0c7bcd8d451>\u001b[0m in \u001b[0;36m<module>\u001b[1;34m\u001b[0m\n\u001b[1;32m----> 1\u001b[1;33m \u001b[0mDecisionTree\u001b[0m \u001b[1;33m=\u001b[0m \u001b[0mDecisionTreeClassifier\u001b[0m\u001b[1;33m(\u001b[0m\u001b[0mcriterion\u001b[0m\u001b[1;33m=\u001b[0m\u001b[1;34m'entropy'\u001b[0m\u001b[1;33m,\u001b[0m\u001b[0mrandom_state\u001b[0m\u001b[1;33m=\u001b[0m\u001b[1;36m2\u001b[0m\u001b[1;33m,\u001b[0m\u001b[0mmax_depth\u001b[0m\u001b[1;33m=\u001b[0m\u001b[1;36m7\u001b[0m\u001b[1;33m)\u001b[0m\u001b[1;33m\u001b[0m\u001b[0m\n\u001b[0m",
      "\u001b[1;31mNameError\u001b[0m: name 'DecisionTreeClassifier' is not defined"
     ]
    }
   ],
   "source": [
    "DecisionTree = DecisionTreeClassifier(criterion='entropy',random_state=2,max_depth=7)"
   ]
  },
  {
   "cell_type": "markdown",
   "metadata": {},
   "source": [
    "## Support Vector Machine"
   ]
  },
  {
   "cell_type": "code",
   "execution_count": 5,
   "metadata": {},
   "outputs": [
    {
     "output_type": "error",
     "ename": "NameError",
     "evalue": "name 'SVC' is not defined",
     "traceback": [
      "\u001b[1;31m---------------------------------------------------------------------------\u001b[0m",
      "\u001b[1;31mNameError\u001b[0m                                 Traceback (most recent call last)",
      "\u001b[1;32m<ipython-input-5-4cc55b6321ae>\u001b[0m in \u001b[0;36m<module>\u001b[1;34m\u001b[0m\n\u001b[1;32m----> 1\u001b[1;33m \u001b[0msvc\u001b[0m \u001b[1;33m=\u001b[0m \u001b[0mSVC\u001b[0m\u001b[1;33m(\u001b[0m\u001b[0mC\u001b[0m \u001b[1;33m=\u001b[0m \u001b[1;36m10\u001b[0m\u001b[1;33m,\u001b[0m \u001b[0mgamma\u001b[0m \u001b[1;33m=\u001b[0m \u001b[1;36m0.01\u001b[0m\u001b[1;33m,\u001b[0m \u001b[0mkernel\u001b[0m \u001b[1;33m=\u001b[0m \u001b[1;34m'rbf'\u001b[0m\u001b[1;33m)\u001b[0m\u001b[1;33m\u001b[0m\u001b[0m\n\u001b[0m",
      "\u001b[1;31mNameError\u001b[0m: name 'SVC' is not defined"
     ]
    }
   ],
   "source": [
    "svc = SVC(C = 10, gamma = 0.01, kernel = 'rbf')"
   ]
  },
  {
   "cell_type": "markdown",
   "metadata": {},
   "source": [
    "## Random Forest"
   ]
  },
  {
   "cell_type": "code",
   "execution_count": 4,
   "metadata": {},
   "outputs": [
    {
     "output_type": "error",
     "ename": "NameError",
     "evalue": "name 'RandomForestClassifier' is not defined",
     "traceback": [
      "\u001b[1;31m---------------------------------------------------------------------------\u001b[0m",
      "\u001b[1;31mNameError\u001b[0m                                 Traceback (most recent call last)",
      "\u001b[1;32m<ipython-input-4-8a668eedd19b>\u001b[0m in \u001b[0;36m<module>\u001b[1;34m\u001b[0m\n\u001b[1;32m----> 1\u001b[1;33m \u001b[0mforest\u001b[0m \u001b[1;33m=\u001b[0m \u001b[0mRandomForestClassifier\u001b[0m\u001b[1;33m(\u001b[0m\u001b[0mn_estimators\u001b[0m\u001b[1;33m=\u001b[0m\u001b[1;36m20\u001b[0m\u001b[1;33m,\u001b[0m \u001b[0mrandom_state\u001b[0m\u001b[1;33m=\u001b[0m\u001b[1;36m0\u001b[0m\u001b[1;33m)\u001b[0m\u001b[1;33m\u001b[0m\u001b[0m\n\u001b[0m",
      "\u001b[1;31mNameError\u001b[0m: name 'RandomForestClassifier' is not defined"
     ]
    }
   ],
   "source": [
    "forest = RandomForestClassifier(n_estimators=20, random_state=0)"
   ]
  },
  {
   "cell_type": "code",
   "execution_count": 12,
   "metadata": {},
   "outputs": [],
   "source": [
    "knn=KNeighborsClassifier(n_neighbors=6,algorithm='ball_tree')"
   ]
  },
  {
   "cell_type": "markdown",
   "metadata": {},
   "source": [
    "## Splitting Ratio"
   ]
  },
  {
   "cell_type": "code",
   "execution_count": 6,
   "metadata": {},
   "outputs": [
    {
     "output_type": "error",
     "ename": "NameError",
     "evalue": "name 'model_selection' is not defined",
     "traceback": [
      "\u001b[1;31m---------------------------------------------------------------------------\u001b[0m",
      "\u001b[1;31mNameError\u001b[0m                                 Traceback (most recent call last)",
      "\u001b[1;32m<ipython-input-6-53dfa44fb5fb>\u001b[0m in \u001b[0;36m<module>\u001b[1;34m\u001b[0m\n\u001b[0;32m      1\u001b[0m \u001b[0mseed\u001b[0m \u001b[1;33m=\u001b[0m \u001b[1;36m101\u001b[0m\u001b[1;33m\u001b[0m\u001b[0m\n\u001b[1;32m----> 2\u001b[1;33m \u001b[0mkfold\u001b[0m \u001b[1;33m=\u001b[0m \u001b[0mmodel_selection\u001b[0m\u001b[1;33m.\u001b[0m\u001b[0mKFold\u001b[0m\u001b[1;33m(\u001b[0m\u001b[0mn_splits\u001b[0m\u001b[1;33m=\u001b[0m\u001b[1;36m20\u001b[0m\u001b[1;33m,\u001b[0m \u001b[0mrandom_state\u001b[0m\u001b[1;33m=\u001b[0m\u001b[0mseed\u001b[0m\u001b[1;33m,\u001b[0m \u001b[0mshuffle\u001b[0m\u001b[1;33m=\u001b[0m\u001b[1;32mTrue\u001b[0m\u001b[1;33m)\u001b[0m\u001b[1;33m\u001b[0m\u001b[0m\n\u001b[0m",
      "\u001b[1;31mNameError\u001b[0m: name 'model_selection' is not defined"
     ]
    }
   ],
   "source": [
    "seed = 101\n",
    "kfold = model_selection.KFold(n_splits=20, random_state=seed, shuffle=True)"
   ]
  },
  {
   "cell_type": "markdown",
   "metadata": {},
   "source": [
    "## Ensembling"
   ]
  },
  {
   "cell_type": "code",
   "execution_count": 4,
   "metadata": {},
   "outputs": [
    {
     "output_type": "error",
     "ename": "NameError",
     "evalue": "name 'DecisionTree' is not defined",
     "traceback": [
      "\u001b[1;31m---------------------------------------------------------------------------\u001b[0m",
      "\u001b[1;31mNameError\u001b[0m                                 Traceback (most recent call last)",
      "\u001b[1;32m<ipython-input-4-eaea9040bfa7>\u001b[0m in \u001b[0;36m<module>\u001b[1;34m\u001b[0m\n\u001b[0;32m      1\u001b[0m \u001b[0mestimators\u001b[0m \u001b[1;33m=\u001b[0m \u001b[1;33m[\u001b[0m\u001b[1;33m]\u001b[0m\u001b[1;33m\u001b[0m\u001b[0m\n\u001b[1;32m----> 2\u001b[1;33m \u001b[0mestimators\u001b[0m\u001b[1;33m.\u001b[0m\u001b[0mappend\u001b[0m\u001b[1;33m(\u001b[0m\u001b[1;33m(\u001b[0m\u001b[1;34m'Desicion Tree'\u001b[0m\u001b[1;33m,\u001b[0m \u001b[0mDecisionTree\u001b[0m\u001b[1;33m)\u001b[0m\u001b[1;33m)\u001b[0m\u001b[1;33m\u001b[0m\u001b[0m\n\u001b[0m\u001b[0;32m      3\u001b[0m \u001b[0mestimators\u001b[0m\u001b[1;33m.\u001b[0m\u001b[0mappend\u001b[0m\u001b[1;33m(\u001b[0m\u001b[1;33m(\u001b[0m\u001b[1;34m'SVM'\u001b[0m\u001b[1;33m,\u001b[0m \u001b[0msvc\u001b[0m\u001b[1;33m)\u001b[0m\u001b[1;33m)\u001b[0m\u001b[1;33m\u001b[0m\u001b[0m\n\u001b[0;32m      4\u001b[0m \u001b[0mestimators\u001b[0m\u001b[1;33m.\u001b[0m\u001b[0mappend\u001b[0m\u001b[1;33m(\u001b[0m\u001b[1;33m(\u001b[0m\u001b[1;34m'Random Forest'\u001b[0m\u001b[1;33m,\u001b[0m \u001b[0mforest\u001b[0m\u001b[1;33m)\u001b[0m\u001b[1;33m)\u001b[0m\u001b[1;33m\u001b[0m\u001b[0m\n\u001b[0;32m      5\u001b[0m \u001b[0mestimators\u001b[0m\u001b[1;33m.\u001b[0m\u001b[0mappend\u001b[0m\u001b[1;33m(\u001b[0m\u001b[1;33m(\u001b[0m\u001b[1;34m'kneighbors'\u001b[0m\u001b[1;33m,\u001b[0m \u001b[0mknn\u001b[0m\u001b[1;33m)\u001b[0m\u001b[1;33m)\u001b[0m\u001b[1;33m\u001b[0m\u001b[0m\n",
      "\u001b[1;31mNameError\u001b[0m: name 'DecisionTree' is not defined"
     ]
    }
   ],
   "source": [
    "estimators = []\n",
    "estimators.append(('Desicion Tree', DecisionTree))\n",
    "estimators.append(('SVM', svc))\n",
    "estimators.append(('Random Forest', forest))\n",
    "estimators.append(('kneighbors', knn))"
   ]
  },
  {
   "cell_type": "code",
   "execution_count": 15,
   "metadata": {},
   "outputs": [],
   "source": [
    "features = df[['N', 'P', 'K', 'temperature', 'humidity', 'ph', 'rainfall']]\n",
    "target = df['label']\n",
    "labels = df['label']"
   ]
  },
  {
   "cell_type": "code",
   "execution_count": 16,
   "metadata": {},
   "outputs": [],
   "source": [
    "ensemble = VotingClassifier(estimators,voting='hard')\n",
    "results = model_selection.cross_val_score(ensemble, X, Y, cv=kfold)"
   ]
  },
  {
   "cell_type": "code",
   "execution_count": 24,
   "metadata": {},
   "outputs": [
    {
     "name": "stdout",
     "output_type": "stream",
     "text": [
      "0.9286363636363637\n"
     ]
    }
   ],
   "source": [
    "print(results.mean())"
   ]
  },
  {
   "cell_type": "code",
   "execution_count": 5,
   "metadata": {},
   "outputs": [
    {
     "output_type": "error",
     "ename": "NameError",
     "evalue": "name 'features' is not defined",
     "traceback": [
      "\u001b[1;31m---------------------------------------------------------------------------\u001b[0m",
      "\u001b[1;31mNameError\u001b[0m                                 Traceback (most recent call last)",
      "\u001b[1;32m<ipython-input-5-158744a70a56>\u001b[0m in \u001b[0;36m<module>\u001b[1;34m\u001b[0m\n\u001b[0;32m      1\u001b[0m \u001b[1;32mfrom\u001b[0m \u001b[0msklearn\u001b[0m\u001b[1;33m.\u001b[0m\u001b[0mmodel_selection\u001b[0m \u001b[1;32mimport\u001b[0m \u001b[0mtrain_test_split\u001b[0m\u001b[1;33m\u001b[0m\u001b[0m\n\u001b[1;32m----> 2\u001b[1;33m \u001b[0mXtrain\u001b[0m\u001b[1;33m,\u001b[0m \u001b[0mXtest\u001b[0m\u001b[1;33m,\u001b[0m \u001b[0mYtrain\u001b[0m\u001b[1;33m,\u001b[0m \u001b[0mYtest\u001b[0m \u001b[1;33m=\u001b[0m \u001b[0mtrain_test_split\u001b[0m\u001b[1;33m(\u001b[0m\u001b[0mfeatures\u001b[0m\u001b[1;33m,\u001b[0m\u001b[0mtarget\u001b[0m\u001b[1;33m,\u001b[0m \u001b[0mtest_size\u001b[0m \u001b[1;33m=\u001b[0m \u001b[1;36m0.25\u001b[0m\u001b[1;33m,\u001b[0m \u001b[0mrandom_state\u001b[0m\u001b[1;33m=\u001b[0m\u001b[1;36m101\u001b[0m\u001b[1;33m)\u001b[0m\u001b[1;33m\u001b[0m\u001b[0m\n\u001b[0m",
      "\u001b[1;31mNameError\u001b[0m: name 'features' is not defined"
     ]
    }
   ],
   "source": [
    "from sklearn.model_selection import train_test_split\n",
    "Xtrain, Xtest, Ytrain, Ytest = train_test_split(features,target, test_size = 0.25, random_state=101)\n"
   ]
  },
  {
   "cell_type": "code",
   "execution_count": 21,
   "metadata": {},
   "outputs": [
    {
     "data": {
      "text/plain": [
       "0.9872727272727273"
      ]
     },
     "execution_count": 21,
     "metadata": {},
     "output_type": "execute_result"
    }
   ],
   "source": [
    "ensemble.fit(Xtrain,Ytrain)\n",
    "ensemble.score(Xtest,Ytest)"
   ]
  },
  {
   "cell_type": "code",
   "execution_count": 23,
   "metadata": {},
   "outputs": [
    {
     "data": {
      "text/plain": [
       "array(['mango', 'chickpea', 'lentil', 'muskmelon', 'jute', 'maize',\n",
       "       'coffee', 'cotton', 'grapes', 'kidneybeans', 'pigeonpeas',\n",
       "       'muskmelon', 'papaya', 'blackgram', 'maize', 'pigeonpeas',\n",
       "       'cotton', 'watermelon', 'muskmelon', 'coconut', 'cotton',\n",
       "       'blackgram', 'muskmelon', 'grapes', 'chickpea', 'watermelon',\n",
       "       'coffee', 'coconut', 'watermelon', 'coffee', 'rice', 'banana',\n",
       "       'pomegranate', 'maize', 'blackgram', 'lentil', 'watermelon',\n",
       "       'watermelon', 'rice', 'pigeonpeas', 'orange', 'orange', 'rice',\n",
       "       'grapes', 'kidneybeans', 'kidneybeans', 'mothbeans', 'lentil',\n",
       "       'pigeonpeas', 'lentil', 'kidneybeans', 'pigeonpeas', 'lentil',\n",
       "       'coffee', 'muskmelon', 'cotton', 'papaya', 'watermelon', 'grapes',\n",
       "       'banana', 'chickpea', 'grapes', 'apple', 'muskmelon', 'lentil',\n",
       "       'grapes', 'cotton', 'watermelon', 'mungbean', 'watermelon',\n",
       "       'blackgram', 'kidneybeans', 'apple', 'blackgram', 'mothbeans',\n",
       "       'jute', 'mothbeans', 'grapes', 'chickpea', 'maize', 'pigeonpeas',\n",
       "       'kidneybeans', 'banana', 'coconut', 'pigeonpeas', 'apple',\n",
       "       'watermelon', 'mungbean', 'chickpea', 'pigeonpeas', 'chickpea',\n",
       "       'chickpea', 'rice', 'pomegranate', 'cotton', 'banana', 'rice',\n",
       "       'grapes', 'kidneybeans', 'orange', 'watermelon', 'mothbeans',\n",
       "       'pigeonpeas', 'jute', 'pomegranate', 'jute', 'apple', 'apple',\n",
       "       'cotton', 'watermelon', 'mango', 'watermelon', 'kidneybeans',\n",
       "       'grapes', 'apple', 'mungbean', 'kidneybeans', 'apple', 'chickpea',\n",
       "       'orange', 'watermelon', 'coffee', 'coffee', 'coconut', 'chickpea',\n",
       "       'banana', 'coconut', 'mungbean', 'papaya', 'maize', 'mango',\n",
       "       'apple', 'grapes', 'watermelon', 'coconut', 'orange', 'mothbeans',\n",
       "       'watermelon', 'lentil', 'rice', 'orange', 'grapes', 'watermelon',\n",
       "       'watermelon', 'maize', 'coffee', 'jute', 'papaya', 'chickpea',\n",
       "       'coffee', 'cotton', 'mungbean', 'grapes', 'apple', 'watermelon',\n",
       "       'mango', 'pomegranate', 'papaya', 'muskmelon', 'pomegranate',\n",
       "       'kidneybeans', 'papaya', 'chickpea', 'mothbeans', 'rice',\n",
       "       'pigeonpeas', 'watermelon', 'coconut', 'kidneybeans', 'mango',\n",
       "       'jute', 'coconut', 'watermelon', 'maize', 'papaya', 'mungbean',\n",
       "       'mango', 'chickpea', 'banana', 'banana', 'cotton', 'pomegranate',\n",
       "       'banana', 'maize', 'banana', 'pomegranate', 'mothbeans', 'rice',\n",
       "       'jute', 'pigeonpeas', 'pigeonpeas', 'grapes', 'maize', 'apple',\n",
       "       'apple', 'blackgram', 'mango', 'coffee', 'grapes', 'maize',\n",
       "       'grapes', 'orange', 'apple', 'jute', 'pomegranate', 'lentil',\n",
       "       'mango', 'coconut', 'grapes', 'cotton', 'maize', 'mungbean',\n",
       "       'cotton', 'lentil', 'mothbeans', 'kidneybeans', 'coconut',\n",
       "       'mungbean', 'mango', 'blackgram', 'coconut', 'coffee', 'muskmelon',\n",
       "       'coffee', 'blackgram', 'banana', 'maize', 'chickpea', 'maize',\n",
       "       'orange', 'chickpea', 'mungbean', 'mungbean', 'chickpea', 'mango',\n",
       "       'mango', 'mothbeans', 'lentil', 'orange', 'grapes', 'pomegranate',\n",
       "       'blackgram', 'pomegranate', 'pomegranate', 'maize', 'chickpea',\n",
       "       'rice', 'apple', 'apple', 'chickpea', 'jute', 'muskmelon',\n",
       "       'coffee', 'mango', 'jute', 'pomegranate', 'maize', 'coffee',\n",
       "       'muskmelon', 'apple', 'maize', 'jute', 'rice', 'mango',\n",
       "       'pigeonpeas', 'cotton', 'watermelon', 'rice', 'apple',\n",
       "       'watermelon', 'orange', 'apple', 'mothbeans', 'coffee', 'grapes',\n",
       "       'pigeonpeas', 'grapes', 'apple', 'banana', 'grapes', 'papaya',\n",
       "       'coconut', 'blackgram', 'pigeonpeas', 'jute', 'maize', 'grapes',\n",
       "       'coconut', 'blackgram', 'apple', 'blackgram', 'kidneybeans',\n",
       "       'coconut', 'banana', 'coffee', 'chickpea', 'apple', 'orange',\n",
       "       'orange', 'cotton', 'mango', 'jute', 'lentil', 'jute', 'blackgram',\n",
       "       'rice', 'cotton', 'mungbean', 'watermelon', 'maize', 'kidneybeans',\n",
       "       'grapes', 'jute', 'kidneybeans', 'pigeonpeas', 'mothbeans',\n",
       "       'watermelon', 'muskmelon', 'pomegranate', 'orange', 'rice',\n",
       "       'lentil', 'kidneybeans', 'apple', 'grapes', 'pomegranate',\n",
       "       'pomegranate', 'blackgram', 'banana', 'papaya', 'rice', 'apple',\n",
       "       'kidneybeans', 'banana', 'pomegranate', 'blackgram', 'papaya',\n",
       "       'chickpea', 'blackgram', 'coconut', 'mungbean', 'apple', 'coffee',\n",
       "       'grapes', 'lentil', 'mango', 'muskmelon', 'lentil', 'banana',\n",
       "       'pigeonpeas', 'muskmelon', 'lentil', 'jute', 'jute', 'maize',\n",
       "       'mungbean', 'muskmelon', 'muskmelon', 'cotton', 'mango',\n",
       "       'chickpea', 'kidneybeans', 'jute', 'kidneybeans', 'papaya',\n",
       "       'maize', 'mango', 'cotton', 'mothbeans', 'coffee', 'pigeonpeas',\n",
       "       'coffee', 'watermelon', 'chickpea', 'mango', 'papaya', 'grapes',\n",
       "       'maize', 'mungbean', 'cotton', 'grapes', 'cotton', 'mungbean',\n",
       "       'orange', 'mungbean', 'orange', 'coffee', 'papaya', 'apple',\n",
       "       'banana', 'chickpea', 'maize', 'mungbean', 'jute', 'mungbean',\n",
       "       'orange', 'cotton', 'mothbeans', 'cotton', 'rice', 'mothbeans',\n",
       "       'blackgram', 'mothbeans', 'mungbean', 'muskmelon', 'blackgram',\n",
       "       'lentil', 'mango', 'apple', 'mango', 'orange', 'blackgram',\n",
       "       'blackgram', 'grapes', 'mothbeans', 'grapes', 'mango', 'chickpea',\n",
       "       'orange', 'mungbean', 'banana', 'mothbeans', 'banana',\n",
       "       'pigeonpeas', 'cotton', 'grapes', 'cotton', 'jute', 'coffee',\n",
       "       'maize', 'orange', 'chickpea', 'cotton', 'watermelon', 'chickpea',\n",
       "       'rice', 'orange', 'orange', 'kidneybeans', 'blackgram', 'grapes',\n",
       "       'papaya', 'mothbeans', 'watermelon', 'mothbeans', 'banana',\n",
       "       'mango', 'kidneybeans', 'grapes', 'banana', 'orange',\n",
       "       'pomegranate', 'coconut', 'chickpea', 'apple', 'orange', 'papaya',\n",
       "       'grapes', 'lentil', 'grapes', 'watermelon', 'mungbean',\n",
       "       'mothbeans', 'blackgram', 'maize', 'grapes', 'mango',\n",
       "       'pomegranate', 'mothbeans', 'chickpea', 'mango', 'lentil', 'jute',\n",
       "       'apple', 'papaya', 'rice', 'grapes', 'orange', 'papaya', 'rice',\n",
       "       'watermelon', 'banana', 'mango', 'coconut', 'mungbean', 'apple',\n",
       "       'mothbeans', 'rice', 'banana', 'orange', 'grapes', 'coffee',\n",
       "       'blackgram', 'banana', 'lentil', 'pigeonpeas', 'jute', 'muskmelon',\n",
       "       'jute', 'blackgram', 'muskmelon', 'maize', 'papaya', 'coffee',\n",
       "       'coconut', 'papaya', 'lentil', 'lentil', 'jute', 'rice', 'jute',\n",
       "       'kidneybeans', 'mungbean', 'pomegranate', 'papaya', 'rice',\n",
       "       'blackgram', 'kidneybeans', 'pomegranate', 'lentil', 'lentil',\n",
       "       'coffee', 'blackgram', 'kidneybeans', 'lentil', 'mungbean',\n",
       "       'mungbean', 'coffee', 'lentil', 'mungbean', 'apple', 'rice',\n",
       "       'chickpea', 'grapes', 'banana', 'maize', 'apple', 'mango',\n",
       "       'watermelon', 'blackgram', 'maize', 'banana', 'blackgram', 'jute',\n",
       "       'mothbeans', 'grapes', 'chickpea', 'kidneybeans', 'pomegranate',\n",
       "       'chickpea'], dtype=object)"
      ]
     },
     "execution_count": 23,
     "metadata": {},
     "output_type": "execute_result"
    }
   ],
   "source": [
    "ensemble.predict(Xtest)"
   ]
  },
  {
   "cell_type": "code",
   "execution_count": 27,
   "metadata": {},
   "outputs": [
    {
     "ename": "NameError",
     "evalue": "name 'model' is not defined",
     "output_type": "error",
     "traceback": [
      "\u001b[1;31m---------------------------------------------------------------------------\u001b[0m",
      "\u001b[1;31mNameError\u001b[0m                                 Traceback (most recent call last)",
      "\u001b[1;32m<ipython-input-27-28294c84967b>\u001b[0m in \u001b[0;36m<module>\u001b[1;34m\u001b[0m\n\u001b[1;32m----> 1\u001b[1;33m \u001b[0mmodel\u001b[0m\u001b[1;33m.\u001b[0m\u001b[0msave\u001b[0m\u001b[1;33m(\u001b[0m\u001b[1;34m\"ensemble_model.h5\"\u001b[0m\u001b[1;33m)\u001b[0m\u001b[1;33m\u001b[0m\u001b[1;33m\u001b[0m\u001b[0m\n\u001b[0m",
      "\u001b[1;31mNameError\u001b[0m: name 'model' is not defined"
     ]
    }
   ],
   "source": [
    "model.save(\"ensemble_model.h5\")"
   ]
  },
  {
   "cell_type": "code",
   "execution_count": null,
   "metadata": {},
   "outputs": [],
   "source": []
  }
 ],
 "metadata": {
  "kernelspec": {
   "name": "python3",
   "display_name": "Python 3.7.0 64-bit"
  },
  "language_info": {
   "codemirror_mode": {
    "name": "ipython",
    "version": 3
   },
   "file_extension": ".py",
   "mimetype": "text/x-python",
   "name": "python",
   "nbconvert_exporter": "python",
   "pygments_lexer": "ipython3",
   "version": "3.7.0"
  },
  "metadata": {
   "interpreter": {
    "hash": "71445c9a74124e2daf98150e49b28009f2c7f1d3b7c9f9b10b58f166538f5579"
   }
  },
  "interpreter": {
   "hash": "71445c9a74124e2daf98150e49b28009f2c7f1d3b7c9f9b10b58f166538f5579"
  }
 },
 "nbformat": 4,
 "nbformat_minor": 2
}